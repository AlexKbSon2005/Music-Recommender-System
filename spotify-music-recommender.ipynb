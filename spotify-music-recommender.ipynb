{
 "cells": [
  {
   "cell_type": "code",
   "execution_count": 103,
   "id": "e82c7447",
   "metadata": {},
   "outputs": [],
   "source": [
    "import pandas as pd\n",
    "import numpy as np"
   ]
  },
  {
   "cell_type": "code",
   "execution_count": 104,
   "id": "49ae34a9",
   "metadata": {},
   "outputs": [],
   "source": [
    "df = pd.read_csv(\"spotify_millsongdata.csv\")\n"
   ]
  },
  {
   "cell_type": "code",
   "execution_count": 105,
   "id": "5a3b661f",
   "metadata": {},
   "outputs": [
    {
     "data": {
      "text/html": [
       "<div>\n",
       "<style scoped>\n",
       "    .dataframe tbody tr th:only-of-type {\n",
       "        vertical-align: middle;\n",
       "    }\n",
       "\n",
       "    .dataframe tbody tr th {\n",
       "        vertical-align: top;\n",
       "    }\n",
       "\n",
       "    .dataframe thead th {\n",
       "        text-align: right;\n",
       "    }\n",
       "</style>\n",
       "<table border=\"1\" class=\"dataframe\">\n",
       "  <thead>\n",
       "    <tr style=\"text-align: right;\">\n",
       "      <th></th>\n",
       "      <th>artist</th>\n",
       "      <th>song</th>\n",
       "      <th>link</th>\n",
       "      <th>text</th>\n",
       "    </tr>\n",
       "  </thead>\n",
       "  <tbody>\n",
       "    <tr>\n",
       "      <th>0</th>\n",
       "      <td>ABBA</td>\n",
       "      <td>Ahe's My Kind Of Girl</td>\n",
       "      <td>/a/abba/ahes+my+kind+of+girl_20598417.html</td>\n",
       "      <td>Look at her face, it's a wonderful face  \\r\\nA...</td>\n",
       "    </tr>\n",
       "    <tr>\n",
       "      <th>1</th>\n",
       "      <td>ABBA</td>\n",
       "      <td>Andante, Andante</td>\n",
       "      <td>/a/abba/andante+andante_20002708.html</td>\n",
       "      <td>Take it easy with me, please  \\r\\nTouch me gen...</td>\n",
       "    </tr>\n",
       "    <tr>\n",
       "      <th>2</th>\n",
       "      <td>ABBA</td>\n",
       "      <td>As Good As New</td>\n",
       "      <td>/a/abba/as+good+as+new_20003033.html</td>\n",
       "      <td>I'll never know why I had to go  \\r\\nWhy I had...</td>\n",
       "    </tr>\n",
       "    <tr>\n",
       "      <th>3</th>\n",
       "      <td>ABBA</td>\n",
       "      <td>Bang</td>\n",
       "      <td>/a/abba/bang_20598415.html</td>\n",
       "      <td>Making somebody happy is a question of give an...</td>\n",
       "    </tr>\n",
       "    <tr>\n",
       "      <th>4</th>\n",
       "      <td>ABBA</td>\n",
       "      <td>Bang-A-Boomerang</td>\n",
       "      <td>/a/abba/bang+a+boomerang_20002668.html</td>\n",
       "      <td>Making somebody happy is a question of give an...</td>\n",
       "    </tr>\n",
       "  </tbody>\n",
       "</table>\n",
       "</div>"
      ],
      "text/plain": [
       "  artist                   song                                        link  \\\n",
       "0   ABBA  Ahe's My Kind Of Girl  /a/abba/ahes+my+kind+of+girl_20598417.html   \n",
       "1   ABBA       Andante, Andante       /a/abba/andante+andante_20002708.html   \n",
       "2   ABBA         As Good As New        /a/abba/as+good+as+new_20003033.html   \n",
       "3   ABBA                   Bang                  /a/abba/bang_20598415.html   \n",
       "4   ABBA       Bang-A-Boomerang      /a/abba/bang+a+boomerang_20002668.html   \n",
       "\n",
       "                                                text  \n",
       "0  Look at her face, it's a wonderful face  \\r\\nA...  \n",
       "1  Take it easy with me, please  \\r\\nTouch me gen...  \n",
       "2  I'll never know why I had to go  \\r\\nWhy I had...  \n",
       "3  Making somebody happy is a question of give an...  \n",
       "4  Making somebody happy is a question of give an...  "
      ]
     },
     "execution_count": 105,
     "metadata": {},
     "output_type": "execute_result"
    }
   ],
   "source": [
    "df.head()"
   ]
  },
  {
   "cell_type": "code",
   "execution_count": 106,
   "id": "ac20e3fd",
   "metadata": {},
   "outputs": [
    {
     "data": {
      "text/plain": [
       "(57650, 4)"
      ]
     },
     "execution_count": 106,
     "metadata": {},
     "output_type": "execute_result"
    }
   ],
   "source": [
    "df.shape"
   ]
  },
  {
   "cell_type": "code",
   "execution_count": 107,
   "id": "537eb1b7",
   "metadata": {},
   "outputs": [
    {
     "data": {
      "text/plain": [
       "artist    0\n",
       "song      0\n",
       "link      0\n",
       "text      0\n",
       "dtype: int64"
      ]
     },
     "execution_count": 107,
     "metadata": {},
     "output_type": "execute_result"
    }
   ],
   "source": [
    "df.isnull().sum()"
   ]
  },
  {
   "cell_type": "code",
   "execution_count": 108,
   "id": "512be618",
   "metadata": {},
   "outputs": [],
   "source": [
    "df=df.drop('link' , axis = 1).reset_index(drop = True)"
   ]
  },
  {
   "cell_type": "code",
   "execution_count": 109,
   "id": "c4ef18e0",
   "metadata": {},
   "outputs": [
    {
     "data": {
      "text/plain": [
       "\"Look at her face, it's a wonderful face  \\r\\nAnd it means something special to me  \\r\\nLook at the way that she smiles when she sees me  \\r\\nHow lucky can one fellow be?  \\r\\n  \\r\\nShe's just my kind of girl, she makes me feel fine  \\r\\nWho could ever believe that she could be mine?  \\r\\nShe's just my kind of girl, without her I'm blue  \\r\\nAnd if she ever leaves me what could I do, what could I do?  \\r\\n  \\r\\nAnd when we go for a walk in the park  \\r\\nAnd she holds me and squeezes my hand  \\r\\nWe'll go on walking for hours and talking  \\r\\nAbout all the things that we plan  \\r\\n  \\r\\nShe's just my kind of girl, she makes me feel fine  \\r\\nWho could ever believe that she could be mine?  \\r\\nShe's just my kind of girl, without her I'm blue  \\r\\nAnd if she ever leaves me what could I do, what could I do?\\r\\n\\r\\n\""
      ]
     },
     "execution_count": 109,
     "metadata": {},
     "output_type": "execute_result"
    }
   ],
   "source": [
    "df['text'][0]"
   ]
  },
  {
   "cell_type": "code",
   "execution_count": 110,
   "id": "318ff6da",
   "metadata": {},
   "outputs": [],
   "source": [
    "df = df.sample(5000)"
   ]
  },
  {
   "cell_type": "code",
   "execution_count": 111,
   "id": "517c95e7",
   "metadata": {},
   "outputs": [],
   "source": [
    "df =df.reset_index(drop = True)"
   ]
  },
  {
   "cell_type": "code",
   "execution_count": 112,
   "id": "34b2a5e0",
   "metadata": {},
   "outputs": [
    {
     "data": {
      "text/plain": [
       "(5000, 3)"
      ]
     },
     "execution_count": 112,
     "metadata": {},
     "output_type": "execute_result"
    }
   ],
   "source": [
    "df.shape"
   ]
  },
  {
   "cell_type": "markdown",
   "id": "4df7da61",
   "metadata": {},
   "source": [
    "Text Pre-processing"
   ]
  },
  {
   "cell_type": "code",
   "execution_count": 113,
   "id": "b6d413e6",
   "metadata": {},
   "outputs": [],
   "source": [
    "df['text'] = df['text'].str.lower().replace(r'^\\w\\s',' ').replace(r'\\n', ' ',regex = True)"
   ]
  },
  {
   "cell_type": "code",
   "execution_count": null,
   "id": "d3f7eef2",
   "metadata": {},
   "outputs": [],
   "source": []
  },
  {
   "cell_type": "code",
   "execution_count": 114,
   "id": "eaf50806",
   "metadata": {},
   "outputs": [],
   "source": [
    "import nltk \n",
    "from nltk.stem.porter import PorterStemmer"
   ]
  },
  {
   "cell_type": "code",
   "execution_count": 115,
   "id": "2e642df8",
   "metadata": {},
   "outputs": [],
   "source": [
    "stemmy = PorterStemmer()"
   ]
  },
  {
   "cell_type": "code",
   "execution_count": 116,
   "id": "6f668687",
   "metadata": {},
   "outputs": [],
   "source": [
    "import nltk\n",
    "from nltk.stem import PorterStemmer\n",
    "\n",
    "def token(txt):\n",
    "    # Tokenize the input text\n",
    "    tokens = nltk.word_tokenize(txt)\n",
    "    \n",
    "    # Create a PorterStemmer object\n",
    "    stemmer = PorterStemmer()\n",
    "    \n",
    "    # Apply stemming to each token\n",
    "    stemmed_tokens = [stemmer.stem(w) for w in tokens]\n",
    "    \n",
    "    # Join the stemmed tokens into a string\n",
    "    result = \" \".join(stemmed_tokens)\n",
    "    \n",
    "    return result\n",
    "\n"
   ]
  },
  {
   "cell_type": "code",
   "execution_count": 117,
   "id": "a7068b1a",
   "metadata": {},
   "outputs": [
    {
     "data": {
      "text/plain": [
       "'you are beauti , beauti'"
      ]
     },
     "execution_count": 117,
     "metadata": {},
     "output_type": "execute_result"
    }
   ],
   "source": [
    "token(' you are beautiful,beauty')"
   ]
  },
  {
   "cell_type": "code",
   "execution_count": 118,
   "id": "5ccec173",
   "metadata": {},
   "outputs": [
    {
     "data": {
      "text/plain": [
       "0       la la hold insid of her the horribl dream of b...\n",
       "1       i 've been watch you for day now babi i just l...\n",
       "2       do you think about the moon ? made you feel re...\n",
       "3       who 'll be the next in line ? who 'll be the n...\n",
       "4       pick me up , put me down push me in , turn me ...\n",
       "                              ...                        \n",
       "4995    young dro , young dro ladi and gentlemen , thi...\n",
       "4996    thi man kept wishin that the devil would come ...\n",
       "4997    oh happi day ( oh happi day ) oh happi day ( o...\n",
       "4998    he would swear by hi mouth almighti i wa live ...\n",
       "4999    i came to you and never ask too much wonder wh...\n",
       "Name: text, Length: 5000, dtype: object"
      ]
     },
     "execution_count": 118,
     "metadata": {},
     "output_type": "execute_result"
    }
   ],
   "source": [
    "df['text'].apply ( lambda x:  token( x ))"
   ]
  },
  {
   "cell_type": "code",
   "execution_count": 119,
   "id": "dace876a",
   "metadata": {},
   "outputs": [],
   "source": [
    "from sklearn.feature_extraction.text import TfidfVectorizer\n",
    "from sklearn.metrics.pairwise import cosine_similarity"
   ]
  },
  {
   "cell_type": "code",
   "execution_count": 120,
   "id": "c4c8917a",
   "metadata": {},
   "outputs": [],
   "source": [
    "tfidf = TfidfVectorizer(analyzer='word', stop_words='english')"
   ]
  },
  {
   "cell_type": "code",
   "execution_count": 121,
   "id": "f74c4567",
   "metadata": {},
   "outputs": [],
   "source": [
    "matrix = tfidf.fit_transform(df['text'])"
   ]
  },
  {
   "cell_type": "markdown",
   "id": "087c987a",
   "metadata": {},
   "source": []
  },
  {
   "cell_type": "code",
   "execution_count": 122,
   "id": "81766ebf",
   "metadata": {},
   "outputs": [
    {
     "data": {
      "text/plain": [
       "<5000x23667 sparse matrix of type '<class 'numpy.float64'>'\n",
       "\twith 268741 stored elements in Compressed Sparse Row format>"
      ]
     },
     "execution_count": 122,
     "metadata": {},
     "output_type": "execute_result"
    }
   ],
   "source": [
    "matrix"
   ]
  },
  {
   "cell_type": "code",
   "execution_count": 123,
   "id": "a2639285",
   "metadata": {},
   "outputs": [],
   "source": [
    "similar =  cosine_similarity(matrix)"
   ]
  },
  {
   "cell_type": "code",
   "execution_count": 124,
   "id": "f2a94cdf",
   "metadata": {},
   "outputs": [
    {
     "data": {
      "text/plain": [
       "array([1.        , 0.01428388, 0.08585677, ..., 0.22763606, 0.00972629,\n",
       "       0.0228336 ])"
      ]
     },
     "execution_count": 124,
     "metadata": {},
     "output_type": "execute_result"
    }
   ],
   "source": [
    "similar[0]"
   ]
  },
  {
   "cell_type": "code",
   "execution_count": 125,
   "id": "127861b5",
   "metadata": {},
   "outputs": [
    {
     "data": {
      "text/html": [
       "<div>\n",
       "<style scoped>\n",
       "    .dataframe tbody tr th:only-of-type {\n",
       "        vertical-align: middle;\n",
       "    }\n",
       "\n",
       "    .dataframe tbody tr th {\n",
       "        vertical-align: top;\n",
       "    }\n",
       "\n",
       "    .dataframe thead th {\n",
       "        text-align: right;\n",
       "    }\n",
       "</style>\n",
       "<table border=\"1\" class=\"dataframe\">\n",
       "  <thead>\n",
       "    <tr style=\"text-align: right;\">\n",
       "      <th></th>\n",
       "      <th>artist</th>\n",
       "      <th>song</th>\n",
       "      <th>text</th>\n",
       "    </tr>\n",
       "  </thead>\n",
       "  <tbody>\n",
       "  </tbody>\n",
       "</table>\n",
       "</div>"
      ],
      "text/plain": [
       "Empty DataFrame\n",
       "Columns: [artist, song, text]\n",
       "Index: []"
      ]
     },
     "execution_count": 125,
     "metadata": {},
     "output_type": "execute_result"
    }
   ],
   "source": [
    "df[df['song']=='Never Gonna Leave You']"
   ]
  },
  {
   "cell_type": "code",
   "execution_count": 126,
   "id": "941e16a9",
   "metadata": {},
   "outputs": [],
   "source": [
    "def recommendation(song_name):\n",
    "    idx = df[df['song'] == song_name].index[0]\n",
    "    distances = sorted(list(enumerate(similar[idx])),reverse=True,key=lambda x:x[1])\n",
    "    \n",
    "    songs = []\n",
    "    for s_id in distances[1:21]:\n",
    "        songs.append(df.iloc[s_id[0]].song)\n",
    "        \n",
    "    return songs"
   ]
  },
  {
   "cell_type": "code",
   "execution_count": 129,
   "id": "8bb27e92",
   "metadata": {},
   "outputs": [
    {
     "data": {
      "text/plain": [
       "['Ultra Violet',\n",
       " 'Baby Hold On',\n",
       " 'Baby Baby',\n",
       " \"I'm Gonna Cry (Cry Baby)\",\n",
       " 'Oh My Soul',\n",
       " 'Baby',\n",
       " \"I Don't Know Why\",\n",
       " 'Pack It Up',\n",
       " \"Since You've Been Gone\",\n",
       " 'Baby Can Dance',\n",
       " 'The Only One',\n",
       " 'Shining Star',\n",
       " 'Rain In My Heart',\n",
       " \"I've Got To Give It All To You\",\n",
       " 'Superstar',\n",
       " 'I Want Elvis For Christmas',\n",
       " 'Ghost Rider',\n",
       " 'Roll With My Baby',\n",
       " 'In The Mood',\n",
       " 'Still In Love']"
      ]
     },
     "execution_count": 129,
     "metadata": {},
     "output_type": "execute_result"
    }
   ],
   "source": [
    "recommendation('Wrap It Up')\n"
   ]
  },
  {
   "cell_type": "code",
   "execution_count": 128,
   "id": "baf0d675",
   "metadata": {},
   "outputs": [
    {
     "data": {
      "text/html": [
       "<div>\n",
       "<style scoped>\n",
       "    .dataframe tbody tr th:only-of-type {\n",
       "        vertical-align: middle;\n",
       "    }\n",
       "\n",
       "    .dataframe tbody tr th {\n",
       "        vertical-align: top;\n",
       "    }\n",
       "\n",
       "    .dataframe thead th {\n",
       "        text-align: right;\n",
       "    }\n",
       "</style>\n",
       "<table border=\"1\" class=\"dataframe\">\n",
       "  <thead>\n",
       "    <tr style=\"text-align: right;\">\n",
       "      <th></th>\n",
       "      <th>artist</th>\n",
       "      <th>song</th>\n",
       "      <th>text</th>\n",
       "    </tr>\n",
       "  </thead>\n",
       "  <tbody>\n",
       "    <tr>\n",
       "      <th>0</th>\n",
       "      <td>Xiu Xiu</td>\n",
       "      <td>Dr. Troll</td>\n",
       "      <td>la la holds inside of her  \\r the horrible dre...</td>\n",
       "    </tr>\n",
       "    <tr>\n",
       "      <th>1</th>\n",
       "      <td>Eurythmics</td>\n",
       "      <td>Wrap It Up</td>\n",
       "      <td>i've been watching you for days now baby  \\r i...</td>\n",
       "    </tr>\n",
       "    <tr>\n",
       "      <th>2</th>\n",
       "      <td>Idina Menzel</td>\n",
       "      <td>Think Too Much</td>\n",
       "      <td>do you think about the moon?  \\r made you feel...</td>\n",
       "    </tr>\n",
       "    <tr>\n",
       "      <th>3</th>\n",
       "      <td>Queens Of The Stone Age</td>\n",
       "      <td>Who'll Be The Next In Line</td>\n",
       "      <td>who'll be the next in line?  \\r who'll be the ...</td>\n",
       "    </tr>\n",
       "    <tr>\n",
       "      <th>4</th>\n",
       "      <td>Genesis</td>\n",
       "      <td>In Hiding</td>\n",
       "      <td>pick me up, put me down  \\r push me in, turn m...</td>\n",
       "    </tr>\n",
       "    <tr>\n",
       "      <th>...</th>\n",
       "      <td>...</td>\n",
       "      <td>...</td>\n",
       "      <td>...</td>\n",
       "    </tr>\n",
       "    <tr>\n",
       "      <th>4995</th>\n",
       "      <td>Young Dro</td>\n",
       "      <td>What It Is</td>\n",
       "      <td>young dro, young dro  \\r   \\r ladies and gentl...</td>\n",
       "    </tr>\n",
       "    <tr>\n",
       "      <th>4996</th>\n",
       "      <td>Halloween</td>\n",
       "      <td>Old Andy Kay Keeter Snapoose</td>\n",
       "      <td>this man kept wishin that the devil would come...</td>\n",
       "    </tr>\n",
       "    <tr>\n",
       "      <th>4997</th>\n",
       "      <td>Kirk Franklin</td>\n",
       "      <td>Oh Happy Day</td>\n",
       "      <td>oh happy day (oh happy day)  \\r oh happy day (...</td>\n",
       "    </tr>\n",
       "    <tr>\n",
       "      <th>4998</th>\n",
       "      <td>Wet Wet Wet</td>\n",
       "      <td>Wishing I Was Lucky</td>\n",
       "      <td>he would swear by his mouth almighty  \\r   \\r ...</td>\n",
       "    </tr>\n",
       "    <tr>\n",
       "      <th>4999</th>\n",
       "      <td>Air Supply</td>\n",
       "      <td>Having You Near Me</td>\n",
       "      <td>i came to you and never asked too much  \\r won...</td>\n",
       "    </tr>\n",
       "  </tbody>\n",
       "</table>\n",
       "<p>5000 rows × 3 columns</p>\n",
       "</div>"
      ],
      "text/plain": [
       "                       artist                          song  \\\n",
       "0                     Xiu Xiu                     Dr. Troll   \n",
       "1                  Eurythmics                    Wrap It Up   \n",
       "2                Idina Menzel                Think Too Much   \n",
       "3     Queens Of The Stone Age    Who'll Be The Next In Line   \n",
       "4                     Genesis                     In Hiding   \n",
       "...                       ...                           ...   \n",
       "4995                Young Dro                    What It Is   \n",
       "4996                Halloween  Old Andy Kay Keeter Snapoose   \n",
       "4997            Kirk Franklin                  Oh Happy Day   \n",
       "4998              Wet Wet Wet           Wishing I Was Lucky   \n",
       "4999               Air Supply            Having You Near Me   \n",
       "\n",
       "                                                   text  \n",
       "0     la la holds inside of her  \\r the horrible dre...  \n",
       "1     i've been watching you for days now baby  \\r i...  \n",
       "2     do you think about the moon?  \\r made you feel...  \n",
       "3     who'll be the next in line?  \\r who'll be the ...  \n",
       "4     pick me up, put me down  \\r push me in, turn m...  \n",
       "...                                                 ...  \n",
       "4995  young dro, young dro  \\r   \\r ladies and gentl...  \n",
       "4996  this man kept wishin that the devil would come...  \n",
       "4997  oh happy day (oh happy day)  \\r oh happy day (...  \n",
       "4998  he would swear by his mouth almighty  \\r   \\r ...  \n",
       "4999  i came to you and never asked too much  \\r won...  \n",
       "\n",
       "[5000 rows x 3 columns]"
      ]
     },
     "execution_count": 128,
     "metadata": {},
     "output_type": "execute_result"
    }
   ],
   "source": [
    "df"
   ]
  },
  {
   "cell_type": "code",
   "execution_count": 130,
   "id": "7008ed8c",
   "metadata": {},
   "outputs": [],
   "source": [
    "import pickle"
   ]
  },
  {
   "cell_type": "code",
   "execution_count": 135,
   "id": "66e2d355",
   "metadata": {},
   "outputs": [],
   "source": [
    "pickle.dump(similar , open(\"similarity\",\"wb\"))"
   ]
  },
  {
   "cell_type": "code",
   "execution_count": 136,
   "id": "92353b60",
   "metadata": {},
   "outputs": [],
   "source": [
    "\n",
    "pickle.dump(df , open(\"df\",\"wb\"))"
   ]
  },
  {
   "cell_type": "code",
   "execution_count": null,
   "id": "2061eb69",
   "metadata": {},
   "outputs": [],
   "source": []
  },
  {
   "cell_type": "code",
   "execution_count": null,
   "id": "6b90b182",
   "metadata": {},
   "outputs": [],
   "source": []
  }
 ],
 "metadata": {
  "kernelspec": {
   "display_name": "Python 3 (ipykernel)",
   "language": "python",
   "name": "python3"
  },
  "language_info": {
   "codemirror_mode": {
    "name": "ipython",
    "version": 3
   },
   "file_extension": ".py",
   "mimetype": "text/x-python",
   "name": "python",
   "nbconvert_exporter": "python",
   "pygments_lexer": "ipython3",
   "version": "3.11.5"
  }
 },
 "nbformat": 4,
 "nbformat_minor": 5
}
